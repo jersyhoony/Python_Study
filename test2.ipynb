{
 "cells": [
  {
   "cell_type": "code",
   "execution_count": 1,
   "id": "d650e013",
   "metadata": {},
   "outputs": [
    {
     "name": "stdout",
     "output_type": "stream",
     "text": [
      "안녕하세요\n"
     ]
    }
   ],
   "source": [
    "print(\"안녕하세요\")"
   ]
  },
  {
   "cell_type": "code",
   "execution_count": null,
   "id": "b7317e50",
   "metadata": {},
   "outputs": [],
   "source": []
  },
  {
   "cell_type": "code",
   "execution_count": null,
   "id": "8a23001f",
   "metadata": {},
   "outputs": [],
   "source": []
  },
  {
   "cell_type": "markdown",
   "id": "e160f5a8",
   "metadata": {},
   "source": [
    "# 1단계 제목\n",
    "## 2단계 제목\n",
    "### 3단계 제목"
   ]
  },
  {
   "cell_type": "code",
   "execution_count": null,
   "id": "4a373078",
   "metadata": {},
   "outputs": [],
   "source": []
  },
  {
   "cell_type": "markdown",
   "id": "a67f652f",
   "metadata": {},
   "source": [
    "!dir"
   ]
  },
  {
   "cell_type": "code",
   "execution_count": 2,
   "id": "7e020f84",
   "metadata": {},
   "outputs": [
    {
     "name": "stdout",
     "output_type": "stream",
     "text": [
      " C 드라이브의 볼륨에는 이름이 없습니다.\n",
      " 볼륨 일련 번호: 1222-173F\n",
      "\n",
      " C:\\Users\\user9\\Documents 디렉터리\n",
      "\n",
      "2023-01-19  오후 08:43    <DIR>          .\n",
      "2023-01-19  오후 08:43    <DIR>          ..\n",
      "2023-01-19  오후 08:37    <DIR>          .ipynb_checkpoints\n",
      "2023-01-19  오후 08:43             1,455 test2.ipynb\n",
      "2023-01-19  오후 08:36                72 users.ipynb\n",
      "2021-09-15  오전 06:25            23,552 Welcome to Hwp.hwp\n",
      "2021-09-15  오전 06:25            15,185 Welcome to Word.hwdt\n",
      "2023-01-12  오후 01:27    <DIR>          Zoom\n",
      "2022-10-24  오후 01:51    <DIR>          사용자 지정 Office 서식 파일\n",
      "2023-01-17  오후 10:06    <DIR>          카카오톡 받은 파일\n",
      "               4개 파일              40,264 바이트\n",
      "               6개 디렉터리  164,492,181,504 바이트 남음\n"
     ]
    }
   ],
   "source": [
    "!dir"
   ]
  }
 ],
 "metadata": {
  "kernelspec": {
   "display_name": "Python 3 (ipykernel)",
   "language": "python",
   "name": "python3"
  },
  "language_info": {
   "codemirror_mode": {
    "name": "ipython",
    "version": 3
   },
   "file_extension": ".py",
   "mimetype": "text/x-python",
   "name": "python",
   "nbconvert_exporter": "python",
   "pygments_lexer": "ipython3",
   "version": "3.9.13"
  }
 },
 "nbformat": 4,
 "nbformat_minor": 5
}
